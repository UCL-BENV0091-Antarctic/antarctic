{
 "cells": [
  {
   "cell_type": "markdown",
   "metadata": {},
   "source": [
    "# Arctic Project in Polyniminal Ridge Regression"
   ]
  },
  {
   "cell_type": "markdown",
   "metadata": {},
   "source": [
    "# Import libraries"
   ]
  },
  {
   "cell_type": "code",
   "execution_count": 1,
   "metadata": {},
   "outputs": [
    {
     "name": "stderr",
     "output_type": "stream",
     "text": [
      "── \u001b[1mAttaching packages\u001b[22m ──────────────────────────────────────────────────── tidyverse 1.3.0 ──\n",
      "\n",
      "\u001b[32m✔\u001b[39m \u001b[34mggplot2\u001b[39m 3.3.2     \u001b[32m✔\u001b[39m \u001b[34mpurrr  \u001b[39m 0.3.4\n",
      "\u001b[32m✔\u001b[39m \u001b[34mtibble \u001b[39m 3.0.4     \u001b[32m✔\u001b[39m \u001b[34mdplyr  \u001b[39m 1.0.2\n",
      "\u001b[32m✔\u001b[39m \u001b[34mtidyr  \u001b[39m 1.1.2     \u001b[32m✔\u001b[39m \u001b[34mstringr\u001b[39m 1.4.0\n",
      "\u001b[32m✔\u001b[39m \u001b[34mreadr  \u001b[39m 1.4.0     \u001b[32m✔\u001b[39m \u001b[34mforcats\u001b[39m 0.5.0\n",
      "\n",
      "── \u001b[1mConflicts\u001b[22m ─────────────────────────────────────────────────────── tidyverse_conflicts() ──\n",
      "\u001b[31m✖\u001b[39m \u001b[34mdplyr\u001b[39m::\u001b[32mfilter()\u001b[39m masks \u001b[34mstats\u001b[39m::filter()\n",
      "\u001b[31m✖\u001b[39m \u001b[34mdplyr\u001b[39m::\u001b[32mlag()\u001b[39m    masks \u001b[34mstats\u001b[39m::lag()\n",
      "\u001b[31m✖\u001b[39m \u001b[34mdplyr\u001b[39m::\u001b[32mselect()\u001b[39m masks \u001b[34mMASS\u001b[39m::select()\n",
      "\n"
     ]
    }
   ],
   "source": [
    "library(MASS)\n",
    "library(tidyverse)"
   ]
  },
  {
   "cell_type": "markdown",
   "metadata": {},
   "source": [
    "## Load data"
   ]
  },
  {
   "cell_type": "code",
   "execution_count": 2,
   "metadata": {},
   "outputs": [],
   "source": [
    "arctic <- read.csv(\"arctic_data.csv\",stringsAsFactors = F) "
   ]
  },
  {
   "cell_type": "markdown",
   "metadata": {},
   "source": [
    "## Data segmentation"
   ]
  },
  {
   "cell_type": "code",
   "execution_count": 3,
   "metadata": {},
   "outputs": [],
   "source": [
    "folds <- cut(seq(1,nrow(arctic)), breaks = 10, labels = FALSE)"
   ]
  },
  {
   "cell_type": "markdown",
   "metadata": {},
   "source": [
    "## Prediction"
   ]
  },
  {
   "cell_type": "code",
   "execution_count": 4,
   "metadata": {},
   "outputs": [
    {
     "ename": "ERROR",
     "evalue": "Error in poly(ozone, 7): object 'ozone' not found\n",
     "output_type": "error",
     "traceback": [
      "Error in poly(ozone, 7): object 'ozone' not found\nTraceback:\n",
      "1. as.data.frame(sapply(1:10, FUN = function(i) {\n .     testID <- which(folds == i, arr.ind = TRUE)\n .     test <- arctic[testID, ]\n .     train <- arctic[-testID, ]\n .     lm <- lm(area ~ poly(ozone, 7) + poly(rainfall, 3), data = arctic)\n .     predict(lm, test)\n . }))",
      "2. sapply(1:10, FUN = function(i) {\n .     testID <- which(folds == i, arr.ind = TRUE)\n .     test <- arctic[testID, ]\n .     train <- arctic[-testID, ]\n .     lm <- lm(area ~ poly(ozone, 7) + poly(rainfall, 3), data = arctic)\n .     predict(lm, test)\n . })",
      "3. lapply(X = X, FUN = FUN, ...)",
      "4. FUN(X[[i]], ...)",
      "5. lm(area ~ poly(ozone, 7) + poly(rainfall, 3), data = arctic)   # at line 11 of file <text>",
      "6. eval(mf, parent.frame())",
      "7. eval(mf, parent.frame())",
      "8. stats::model.frame(formula = area ~ poly(ozone, 7) + poly(rainfall, \n .     3), data = arctic, drop.unused.levels = TRUE)",
      "9. model.frame.default(formula = area ~ poly(ozone, 7) + poly(rainfall, \n .     3), data = arctic, drop.unused.levels = TRUE)",
      "10. eval(predvars, data, env)",
      "11. eval(predvars, data, env)",
      "12. poly(ozone, 7)"
     ]
    }
   ],
   "source": [
    "prediction <- as.data.frame(\n",
    "    # loop 1:K\n",
    "    sapply(1:10, FUN = function(i){\n",
    "        testID <- which(folds == i, arr.ind = TRUE)\n",
    "        test <- arctic[testID, ]\n",
    "        train <- arctic[-testID, ] # set K-fold\n",
    "\n",
    "        # print(test) # if needed\n",
    "\n",
    "        # Polynominal Ridge Regression\n",
    "        lm <- lm(Area ~ poly(Ozone,7)+poly(Rainfall,3),data=arctic)\n",
    "\n",
    "        # prediction output\n",
    "        predict(lm,test)\n",
    "    })\n",
    ")"
   ]
  },
  {
   "cell_type": "markdown",
   "metadata": {},
   "source": [
    "## Table gathering and merging"
   ]
  },
  {
   "cell_type": "code",
   "execution_count": null,
   "metadata": {},
   "outputs": [],
   "source": [
    "pred_gather <- gather(data=prediction, key=\"fold\",value=\"prediction\",1:10)\n",
    "result <- as.data.frame(cbind(arctic[,c(1,2,3,6)],pred_gather))"
   ]
  },
  {
   "cell_type": "markdown",
   "metadata": {},
   "source": [
    "## Calculate value of R^2"
   ]
  },
  {
   "cell_type": "code",
   "execution_count": null,
   "metadata": {},
   "outputs": [],
   "source": [
    "result[\"R^2\"] <- ((result$area-result$prediction)^2)\n",
    "R_square <- sum(result$`R^2`)/490\n",
    "print(R_square) # mean qaure error"
   ]
  },
  {
   "cell_type": "markdown",
   "metadata": {},
   "source": [
    "## Plot line chart (Prediction vs True) with title, legend, and specific size of figure"
   ]
  },
  {
   "cell_type": "code",
   "execution_count": null,
   "metadata": {},
   "outputs": [],
   "source": [
    "# figure size\n",
    "options(repr.plot.width=20, repr.plot.height=10)\n",
    "\n",
    "# plot\n",
    "plot(result$observation,result$area,type ='l',ylim = c(0,1.5),lwd = '2',xlab = \"Observation_ID\", ylab = \"Value\")\n",
    "# attributes of prediction lines\n",
    "lines(result$observation,result$prediction,lty=1,col='red',lwd = '2')\n",
    "\n",
    "# x-axis labels\n",
    "axis(1,at=c(1,61,121,181,241,301,361,421,481),\n",
    "   labels=c(\"Jan 1980\",\"Jan 1985\",\"Jan 1990\",\"Jan 1995\",\"Jan 2000\",\"Jan 2005\",\"Jan 2010\",\"Jan 2015\",\"Jan 2020\"))\n",
    "\n",
    "# title\n",
    "title(main = list(\"Polynominal Ridge Regression\", cex = 1.5, col = \"red\", font = 3))\n",
    "\n",
    "# legend\n",
    "legend(\"topright\", inset=.05, c(\"Prediction\",\"True\"),bty = 'n',lty=c(1, 1),  col=c(\"red\", \"black\"),lwd =c(2, 2))"
   ]
  },
  {
   "cell_type": "code",
   "execution_count": null,
   "metadata": {},
   "outputs": [],
   "source": []
  }
 ],
 "metadata": {
  "kernelspec": {
   "display_name": "R",
   "language": "R",
   "name": "ir"
  },
  "language_info": {
   "codemirror_mode": "r",
   "file_extension": ".r",
   "mimetype": "text/x-r-source",
   "name": "R",
   "pygments_lexer": "r",
   "version": "4.0.3"
  }
 },
 "nbformat": 4,
 "nbformat_minor": 4
}
