{
 "cells": [
  {
   "cell_type": "markdown",
   "metadata": {},
   "source": [
    "# Arctic Project in Penalized Polyniminal Regression (Lasso)"
   ]
  },
  {
   "cell_type": "markdown",
   "metadata": {},
   "source": [
    "## Import libraries"
   ]
  },
  {
   "cell_type": "code",
   "execution_count": null,
   "metadata": {},
   "outputs": [],
   "source": [
    "library(glmnet)\n",
    "library(mice)"
   ]
  },
  {
   "cell_type": "markdown",
   "metadata": {},
   "source": [
    "## Load data"
   ]
  },
  {
   "cell_type": "code",
   "execution_count": null,
   "metadata": {},
   "outputs": [],
   "source": [
    "arctic <- read.csv(\"poly.csv\",stringsAsFactors = F)\n",
    "x <- as.matrix(arctic[,c(6:21)])\n",
    "y <- as.matrix(arctic[,c(5)])"
   ]
  },
  {
   "cell_type": "markdown",
   "metadata": {},
   "source": [
    "## Lasso regression"
   ]
  },
  {
   "cell_type": "code",
   "execution_count": null,
   "metadata": {},
   "outputs": [],
   "source": [
    "r1 <- glmnet(x = x, y = y, family = \"gaussian\", alpha = 1)"
   ]
  },
  {
   "cell_type": "markdown",
   "metadata": {},
   "source": [
    "## Coefficients variation plot"
   ]
  },
  {
   "cell_type": "code",
   "execution_count": null,
   "metadata": {},
   "outputs": [],
   "source": [
    "# figure size\n",
    "options(repr.plot.width=20, repr.plot.height=10)\n",
    "\n",
    "plot(r1, xvar=\"lambda\", lwd = '2',cex.lab = 1.5)"
   ]
  },
  {
   "cell_type": "markdown",
   "metadata": {},
   "source": [
    "## n-fold testing"
   ]
  },
  {
   "cell_type": "code",
   "execution_count": null,
   "metadata": {},
   "outputs": [],
   "source": [
    "rlcv <- cv.glmnet(x = x, y = y, family = \"gaussian\", alpha = 1, nfolds = 10)"
   ]
  },
  {
   "cell_type": "markdown",
   "metadata": {},
   "source": [
    "## Log Lambda vs Testing Error"
   ]
  },
  {
   "cell_type": "code",
   "execution_count": null,
   "metadata": {},
   "outputs": [],
   "source": [
    "# figure size\n",
    "options(repr.plot.width=20, repr.plot.height=10)\n",
    "\n",
    "plot(rlcv,cex.lab = 1.5)"
   ]
  },
  {
   "cell_type": "markdown",
   "metadata": {},
   "source": [
    "## Print value of \"min\" and \"1se\""
   ]
  },
  {
   "cell_type": "code",
   "execution_count": null,
   "metadata": {},
   "outputs": [],
   "source": [
    "print(rlcv)"
   ]
  },
  {
   "cell_type": "markdown",
   "metadata": {},
   "source": [
    "## View coefficients \n",
    "### results can be different after each training since n-folds method above split data set randomly"
   ]
  },
  {
   "cell_type": "code",
   "execution_count": null,
   "metadata": {},
   "outputs": [],
   "source": [
    "coef(rlcv,s=rlcv$lambda.min)\n",
    "\n",
    "# put optimum coefficients into model\n",
    "rlcv_min <- glmnet(x = x, y = y, family = \"gaussian\", \n",
    "                   alpha = 1, lambda = rlcv$lambda.min)\n",
    "\n",
    "# prediction and table merging\n",
    "result <- as.data.frame(cbind(arctic[,c(1,5)],predict(rlcv_min,x)))"
   ]
  },
  {
   "cell_type": "markdown",
   "metadata": {},
   "source": [
    "## Calculate Mean Square Error"
   ]
  },
  {
   "cell_type": "code",
   "execution_count": null,
   "metadata": {},
   "outputs": [],
   "source": [
    "result[\"R^2\"] <- ((result$Extent-result$s0)^2)\n",
    "mse <- sum(result$\"R^2\")/490\n",
    "print(mse)"
   ]
  },
  {
   "cell_type": "markdown",
   "metadata": {},
   "source": [
    "## Plot line chart (Prediction vs True) with title, legend, and specific size of figure"
   ]
  },
  {
   "cell_type": "code",
   "execution_count": null,
   "metadata": {},
   "outputs": [],
   "source": [
    "# figure size\n",
    "options(repr.plot.width=15, repr.plot.height=7.5)\n",
    "\n",
    "# plot\n",
    "plot(result$observation,result$Extent,type ='l',ylim = c(0,1.5),lwd = '2',\n",
    "     xlab = \"Date\", ylab = \"Value\",xaxt='n',cex.lab = 1.5)\n",
    "\n",
    "# attributes of prediction lines\n",
    "lines(result$observation,result$s0,lty=1,col='red',lwd = '2')\n",
    "\n",
    "# x-axis labels\n",
    "axis(1,at=c(1,61,121,181,241,301,361,421,481),\n",
    "   labels=c(\"Jan 1980\",\"Jan 1985\",\"Jan 1990\",\"Jan 1995\",\"Jan 2000\",\"Jan 2005\",\"Jan 2010\",\"Jan 2015\",\"Jan 2020\"))\n",
    "\n",
    "# title\n",
    "title(main = list(\"Penalized Polyniminal Regression (Lasso, min)\", cex = 2, col = \"black\", font = 2))\n",
    "\n",
    "# legend\n",
    "legend(\"topright\",inset=.05,c(\"Prediction\",\"True\"),\n",
    "       bty = 'n',lty=c(1, 1),col=c(\"red\", \"black\"),lwd =c(2, 2),cex = 1.5)"
   ]
  },
  {
   "cell_type": "code",
   "execution_count": null,
   "metadata": {},
   "outputs": [],
   "source": [
    "# figure size\n",
    "options(repr.plot.width=15, repr.plot.height=10)\n",
    "\n",
    "plot(result$Extent, result$s0,xlim = c(0,1.0), ylim = c(0,1.2),\n",
    "     xlab = \"True value\", ylab = \"Predicted value\",cex.lab = 1.5)\n",
    "par(new = TRUE)\n",
    "curve(x+0,0,1,bty=\"l\",xlim = c(0,1.0), ylim = c(0,1.2),\n",
    "      col=c(\"red\"),lwd =c(2),lty=c(2),xlab = \"True value\", ylab = \"Predicted value\",cex.lab=1.5)\n",
    "# title\n",
    "title(main = list(\"Penalized Polyniminal Regression (Lasso, min)\", cex = 2, col = \"black\", font = 2))"
   ]
  }
 ],
 "metadata": {
  "kernelspec": {
   "display_name": "R",
   "language": "R",
   "name": "ir"
  },
  "language_info": {
   "codemirror_mode": "r",
   "file_extension": ".r",
   "mimetype": "text/x-r-source",
   "name": "R",
   "pygments_lexer": "r",
   "version": "4.0.3"
  }
 },
 "nbformat": 4,
 "nbformat_minor": 4
}
