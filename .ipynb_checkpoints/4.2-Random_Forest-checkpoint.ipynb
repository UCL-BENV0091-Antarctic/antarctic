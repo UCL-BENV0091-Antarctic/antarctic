{
 "cells": [
  {
   "cell_type": "markdown",
   "metadata": {},
   "source": [
    "# Arctic Project in Random Forest (Testing)"
   ]
  },
  {
   "cell_type": "markdown",
   "metadata": {},
   "source": [
    "## Import libraries"
   ]
  },
  {
   "cell_type": "code",
   "execution_count": null,
   "metadata": {},
   "outputs": [],
   "source": [
    "library(MASS)\n",
    "library(tidyverse)\n",
    "library(randomForest)"
   ]
  },
  {
   "cell_type": "markdown",
   "metadata": {},
   "source": [
    "## Load data"
   ]
  },
  {
   "cell_type": "code",
   "execution_count": null,
   "metadata": {},
   "outputs": [],
   "source": [
    "arctic <- read.csv(\"arctic_data.csv\",stringsAsFactors = F)"
   ]
  },
  {
   "cell_type": "markdown",
   "metadata": {},
   "source": [
    "## Data segmentation"
   ]
  },
  {
   "cell_type": "code",
   "execution_count": null,
   "metadata": {},
   "outputs": [],
   "source": [
    "folds <- cut(seq(1,nrow(arctic)), breaks = 10, labels = FALSE) "
   ]
  },
  {
   "cell_type": "markdown",
   "metadata": {},
   "source": [
    "## Prediction"
   ]
  },
  {
   "cell_type": "code",
   "execution_count": null,
   "metadata": {},
   "outputs": [],
   "source": [
    "prediction <- as.data.frame(\n",
    "    # loop 1:K\n",
    "    sapply(1:10, FUN = function(i){\n",
    "        testID <- which(folds == i, arr.ind = TRUE)\n",
    "        test <- arctic[testID, ]\n",
    "        train <- arctic[-testID, ] # set K-fold\n",
    "\n",
    "        # print(test) # if needed\n",
    "\n",
    "        # random forest (mtry = 5 and ntree = 200)\n",
    "        model <- randomForest(Extent~Rainfall+Daylight+Population+CO2+Ozone\n",
    "                              +OceanTemperature_NorthernHemisphere\n",
    "                              +LandTemperature_NorthernHemisphere\n",
    "                              +MinTemperature_NorthSlopeAlaska\n",
    "                              +GDP_WORLD,\n",
    "                              data=train, mtry=5, ntree=200)\n",
    "\n",
    "        # print(summary(model)) # if needed\n",
    "\n",
    "        # prediction output\n",
    "        predict(model,test)\n",
    "    })\n",
    ")"
   ]
  },
  {
   "cell_type": "markdown",
   "metadata": {},
   "source": [
    "## Table gathering and merging"
   ]
  },
  {
   "cell_type": "code",
   "execution_count": null,
   "metadata": {},
   "outputs": [],
   "source": [
    "pred_gather <- gather(data=prediction, key=\"fold\",value=\"prediction\",1:10)\n",
    "result <- as.data.frame(cbind(arctic[,c(1,5)],pred_gather))"
   ]
  },
  {
   "cell_type": "markdown",
   "metadata": {},
   "source": [
    "## Calculate Mean Squre Error"
   ]
  },
  {
   "cell_type": "code",
   "execution_count": null,
   "metadata": {},
   "outputs": [],
   "source": [
    "result[\"R^2\"] <- ((result$Extent-result$prediction)^2)\n",
    "mse <- sum(result$`R^2`)/490\n",
    "print(mse)"
   ]
  },
  {
   "cell_type": "markdown",
   "metadata": {},
   "source": [
    "## Plot line chart (Prediction vs True)"
   ]
  },
  {
   "cell_type": "code",
   "execution_count": null,
   "metadata": {},
   "outputs": [],
   "source": [
    "# figure size\n",
    "options(repr.plot.width=15, repr.plot.height=7.5)\n",
    "\n",
    "# plot\n",
    "plot(result$observation,result$Extent,type ='l',ylim = c(0,1.5),lwd = '2',\n",
    "     xlab = \"Date\", ylab = \"Value\",xaxt='n',cex.lab = 1.5)\n",
    "\n",
    "# attributes of prediction lines\n",
    "lines(result$observation,result$prediction,lty=1,col='red',lwd = '2')\n",
    "\n",
    "# x-axis labels\n",
    "axis(1,at=c(1,61,121,181,241,301,361,421,481),\n",
    "   labels=c(\"Jan 1980\",\"Jan 1985\",\"Jan 1990\",\"Jan 1995\",\"Jan 2000\",\"Jan 2005\",\"Jan 2010\",\"Jan 2015\",\"Jan 2020\"))\n",
    "\n",
    "# title\n",
    "title(main = list(\"Random Forest\", cex = 2, col = \"black\", font = 2))\n",
    "\n",
    "# legend\n",
    "legend(\"topright\",inset=.05,c(\"Prediction\",\"True\"),\n",
    "       bty = 'n',lty=c(1, 1),col=c(\"red\", \"black\"),lwd =c(2, 2),cex = 1.5)"
   ]
  },
  {
   "cell_type": "code",
   "execution_count": null,
   "metadata": {},
   "outputs": [],
   "source": [
    "# figure size\n",
    "options(repr.plot.width=15, repr.plot.height=10)\n",
    "\n",
    "plot(result$Extent, result$prediction,xlim = c(0,1.0), ylim = c(0,1.2),\n",
    "     xlab = \"True value\", ylab = \"Predicted value\",cex.lab = 1.5)\n",
    "par(new = TRUE)\n",
    "curve(x+0,0,1,bty=\"l\",xlim = c(0,1.0), ylim = c(0,1.2),\n",
    "      col=c(\"red\"),lwd =c(2),lty=c(2),xlab = \"True value\", ylab = \"Predicted value\",cex.lab=1.5)\n",
    "# title\n",
    "title(main = list(\"Random Forest\", cex = 2, col = \"black\", font = 2))"
   ]
  }
 ],
 "metadata": {
  "kernelspec": {
   "display_name": "R",
   "language": "R",
   "name": "ir"
  },
  "language_info": {
   "codemirror_mode": "r",
   "file_extension": ".r",
   "mimetype": "text/x-r-source",
   "name": "R",
   "pygments_lexer": "r",
   "version": "4.0.3"
  }
 },
 "nbformat": 4,
 "nbformat_minor": 4
}
