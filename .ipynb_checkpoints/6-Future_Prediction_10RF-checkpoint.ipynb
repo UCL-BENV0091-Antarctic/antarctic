{
 "cells": [
  {
   "cell_type": "markdown",
   "metadata": {},
   "source": [
    "# Arctic Project: Future Predict in Random Forest"
   ]
  },
  {
   "cell_type": "markdown",
   "metadata": {},
   "source": [
    "## Load libraries"
   ]
  },
  {
   "cell_type": "code",
   "execution_count": null,
   "metadata": {},
   "outputs": [],
   "source": [
    "library(MASS)\n",
    "library(tidyverse)\n",
    "library(randomForest)"
   ]
  },
  {
   "cell_type": "code",
   "execution_count": null,
   "metadata": {},
   "outputs": [],
   "source": [
    "arctic <- read.csv(\"arctic_data.csv\",stringsAsFactors = F)\n",
    "future_data <- read.csv(\"future_dataset.csv\",stringsAsFactors = F)\n",
    "visulization_data <- read.csv(\"visulization.csv\",stringsAsFactors = F)\n",
    "tool <- read.csv(\"tool.csv\",stringsAsFactors = F)"
   ]
  },
  {
   "cell_type": "code",
   "execution_count": null,
   "metadata": {},
   "outputs": [],
   "source": [
    "model <- randomForest(Extent~Rainfall+Daylight+Population+CO2+Ozone\n",
    "                              +OceanTemperature_NorthernHemisphere\n",
    "                              +LandTemperature_NorthernHemisphere\n",
    "                              +MinTemperature_NorthSlopeAlaska\n",
    "                              +GDP_WORLD,\n",
    "                              data=arctic, mtry=5, ntree=200)"
   ]
  },
  {
   "cell_type": "code",
   "execution_count": null,
   "metadata": {},
   "outputs": [],
   "source": [
    "pred <- cbind(tool,as.data.frame(predict(model,future_data)))"
   ]
  },
  {
   "cell_type": "code",
   "execution_count": null,
   "metadata": {},
   "outputs": [],
   "source": [
    "pred[\"prediction\"] <- (pred$predict*(13.9-2.41)+2.41)"
   ]
  },
  {
   "cell_type": "code",
   "execution_count": null,
   "metadata": {},
   "outputs": [],
   "source": [
    "result <- left_join(visulization_data, pred, by=\"observation\")\n",
    "result"
   ]
  },
  {
   "cell_type": "code",
   "execution_count": null,
   "metadata": {},
   "outputs": [],
   "source": [
    "# figure size\n",
    "options(repr.plot.width=15, repr.plot.height=7.5)\n",
    "\n",
    "# plot\n",
    "plot(result$observation,result$Extent,type ='l',ylim = c(0,20),lwd = '2',\n",
    "     xlab = \"Date\", ylab = \"Arctic Sea Ice Extent\",xaxt='n',cex.lab = 1.5)\n",
    "\n",
    "# attributes of prediction lines\n",
    "lines(result$observation,result$prediction,lty=1,col='red',lwd = '2')\n",
    "\n",
    "# x-axis labels\n",
    "axis(1,at=c(1,13,25,37,49,61,73,85,97,109,121,133,145,157),\n",
    "   labels=c(\"Jan 2010\",\"Jan 2011\",\"Jan 2012\",\"Jan 2013\",\"Jan 2014\",\"Jan 2015\",\"Jan 2016\",\"Jan 2017\",\"Jan 2018\",\"Jan 2019\",\"Jan 2020\",\"Jan 2021\",\"Jan 2022\",\"Jan 2023\"))\n",
    "\n",
    "# title\n",
    "title(main = list(\"Random Forest Prediction\", cex = 2, col = \"black\", font = 2))\n",
    "\n",
    "# legend\n",
    "legend(\"topright\",inset=.05,c(\"Future Prediction\",\"Existed Data\"),\n",
    "       bty = 'n',lty=c(1, 1),col=c(\"red\", \"black\"),lwd =c(2, 2),cex = 1.5)"
   ]
  }
 ],
 "metadata": {
  "kernelspec": {
   "display_name": "R",
   "language": "R",
   "name": "ir"
  },
  "language_info": {
   "codemirror_mode": "r",
   "file_extension": ".r",
   "mimetype": "text/x-r-source",
   "name": "R",
   "pygments_lexer": "r",
   "version": "4.0.3"
  }
 },
 "nbformat": 4,
 "nbformat_minor": 4
}
