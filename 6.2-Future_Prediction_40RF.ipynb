{
 "cells": [
  {
   "cell_type": "markdown",
   "metadata": {},
   "source": [
    "# Arctic Project: Future Predict in Random Forest"
   ]
  },
  {
   "cell_type": "markdown",
   "metadata": {},
   "source": [
    "## Load libraries"
   ]
  },
  {
   "cell_type": "code",
   "execution_count": 1,
   "metadata": {},
   "outputs": [
    {
     "name": "stderr",
     "output_type": "stream",
     "text": [
      "── \u001b[1mAttaching packages\u001b[22m ──────────────────────────────────────────────────── tidyverse 1.3.0 ──\n",
      "\n",
      "\u001b[32m✔\u001b[39m \u001b[34mggplot2\u001b[39m 3.3.2     \u001b[32m✔\u001b[39m \u001b[34mpurrr  \u001b[39m 0.3.4\n",
      "\u001b[32m✔\u001b[39m \u001b[34mtibble \u001b[39m 3.0.4     \u001b[32m✔\u001b[39m \u001b[34mdplyr  \u001b[39m 1.0.2\n",
      "\u001b[32m✔\u001b[39m \u001b[34mtidyr  \u001b[39m 1.1.2     \u001b[32m✔\u001b[39m \u001b[34mstringr\u001b[39m 1.4.0\n",
      "\u001b[32m✔\u001b[39m \u001b[34mreadr  \u001b[39m 1.4.0     \u001b[32m✔\u001b[39m \u001b[34mforcats\u001b[39m 0.5.0\n",
      "\n",
      "── \u001b[1mConflicts\u001b[22m ─────────────────────────────────────────────────────── tidyverse_conflicts() ──\n",
      "\u001b[31m✖\u001b[39m \u001b[34mdplyr\u001b[39m::\u001b[32mfilter()\u001b[39m masks \u001b[34mstats\u001b[39m::filter()\n",
      "\u001b[31m✖\u001b[39m \u001b[34mdplyr\u001b[39m::\u001b[32mlag()\u001b[39m    masks \u001b[34mstats\u001b[39m::lag()\n",
      "\u001b[31m✖\u001b[39m \u001b[34mdplyr\u001b[39m::\u001b[32mselect()\u001b[39m masks \u001b[34mMASS\u001b[39m::select()\n",
      "\n",
      "randomForest 4.6-14\n",
      "\n",
      "Type rfNews() to see new features/changes/bug fixes.\n",
      "\n",
      "\n",
      "Attaching package: ‘randomForest’\n",
      "\n",
      "\n",
      "The following object is masked from ‘package:dplyr’:\n",
      "\n",
      "    combine\n",
      "\n",
      "\n",
      "The following object is masked from ‘package:ggplot2’:\n",
      "\n",
      "    margin\n",
      "\n",
      "\n"
     ]
    }
   ],
   "source": [
    "library(MASS)\n",
    "library(tidyverse)\n",
    "library(randomForest)"
   ]
  },
  {
   "cell_type": "code",
   "execution_count": 2,
   "metadata": {},
   "outputs": [],
   "source": [
    "arctic <- read.csv(\"arctic_data.csv\",stringsAsFactors = F)\n",
    "#future_data <- read.csv(\"future_dataset.csv\",stringsAsFactors = F)\n",
    "visulization_data <- read.csv(\"visulization2.csv\",stringsAsFactors = F)\n",
    "tool <- read.csv(\"tool2.csv\",stringsAsFactors = F)\n",
    "ozone_plus <- read.csv(\"ozone+.csv\",stringsAsFactors = F)\n",
    "ozone_minus <- read.csv(\"ozone-.csv\",stringsAsFactors = F)\n",
    "future <- read.csv(\"future=.csv\",stringsAsFactors = F)"
   ]
  },
  {
   "cell_type": "code",
   "execution_count": 3,
   "metadata": {},
   "outputs": [],
   "source": [
    "model <- randomForest(Extent~Rainfall+Daylight+Population+CO2+Ozone\n",
    "                              +OceanTemperature_NorthernHemisphere\n",
    "                              +LandTemperature_NorthernHemisphere\n",
    "                              +MinTemperature_NorthSlopeAlaska\n",
    "                              +GDP_WORLD,\n",
    "                              data=arctic, mtry=5, ntree=200)"
   ]
  },
  {
   "cell_type": "code",
   "execution_count": 16,
   "metadata": {},
   "outputs": [],
   "source": [
    "future = predict(model,future)\n",
    "future_ozone_plus = predict(model,ozone_plus)\n",
    "future_ozone_minus = predict(model,ozone_minus)\n",
    "\n",
    "pred <- cbind(tool,as.data.frame(future),\n",
    "              as.data.frame(future_ozone_plus),\n",
    "              as.data.frame(future_ozone_minus))"
   ]
  },
  {
   "cell_type": "code",
   "execution_count": 18,
   "metadata": {},
   "outputs": [],
   "source": [
    "#pred[\"prediction\"] <- (pred$predict*(16.09-3.57)+3.57)\n",
    "pred[\"future=\"] <- (pred$future*(16.09-3.57)+3.57)\n",
    "pred[\"ozone+\"] <- (pred$future_ozone_plus*(16.09-3.57)+3.57)\n",
    "pred[\"ozone-\"] <- (pred$future_ozone_minus*(16.09-3.57)+3.57)"
   ]
  },
  {
   "cell_type": "code",
   "execution_count": null,
   "metadata": {},
   "outputs": [],
   "source": [
    "result <- left_join(visulization_data, pred, by=\"observation\")\n",
    "#result"
   ]
  },
  {
   "cell_type": "code",
   "execution_count": null,
   "metadata": {},
   "outputs": [],
   "source": [
    "# figure size\n",
    "options(repr.plot.width=15, repr.plot.height=7.5)\n",
    "\n",
    "# plot\n",
    "plot(result$observation,result$Extent,type ='l',ylim = c(0,25),lwd = '2',\n",
    "     xlab = \"Date\", ylab = \"Arctic Sea Ice Extent\",xaxt='n',cex.lab = 1.5)\n",
    "\n",
    "# attributes of prediction lines\n",
    "lines(result$observation,result$prediction,lty=1,col='red',lwd = '2')\n",
    "par(new=TRUE)\n",
    "plot(result$observation,result$Ave,lty=1,col='blue',lwd = '2',ylim = c(0,25),xaxt='n',\n",
    "     xlab = \"Date\", ylab = \"Arctic Sea Ice Extent\",cex.lab = 1.5)\n",
    "\n",
    "# x-axis labels\n",
    "axis(1,at=c(1,61,121,181,241,301,361,421,481),\n",
    "   labels=c(\"Jan 1980\",\"Jan 1985\",\"Jan 1990\",\"Jan 1995\",\"Jan 2000\",\"Jan 2005\",\"Jan 2010\",\"Jan 2015\",\"Jan 2020\"))\n",
    "\n",
    "# title\n",
    "title(main = list(\"Random Forest Prediction\", cex = 2, col = \"black\", font = 2))\n",
    "\n",
    "# legend\n",
    "legend(\"topright\",inset=.05,c(\"Future Prediction\",\"Existed Data\"),\n",
    "       bty = 'n',lty=c(1, 1),col=c(\"red\", \"black\"),lwd =c(2, 2),cex = 1.5)"
   ]
  }
 ],
 "metadata": {
  "kernelspec": {
   "display_name": "R",
   "language": "R",
   "name": "ir"
  },
  "language_info": {
   "codemirror_mode": "r",
   "file_extension": ".r",
   "mimetype": "text/x-r-source",
   "name": "R",
   "pygments_lexer": "r",
   "version": "4.0.3"
  }
 },
 "nbformat": 4,
 "nbformat_minor": 4
}
